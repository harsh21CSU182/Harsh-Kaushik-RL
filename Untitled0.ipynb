{
  "nbformat": 4,
  "nbformat_minor": 0,
  "metadata": {
    "colab": {
      "provenance": [],
      "authorship_tag": "ABX9TyOO4uYQIP6jkczGQA/CaBmN",
      "include_colab_link": true
    },
    "kernelspec": {
      "name": "python3",
      "display_name": "Python 3"
    },
    "language_info": {
      "name": "python"
    }
  },
  "cells": [
    {
      "cell_type": "markdown",
      "metadata": {
        "id": "view-in-github",
        "colab_type": "text"
      },
      "source": [
        "<a href=\"https://colab.research.google.com/github/harsh21CSU182/Harsh-Kaushik-RL/blob/main/Untitled0.ipynb\" target=\"_parent\"><img src=\"https://colab.research.google.com/assets/colab-badge.svg\" alt=\"Open In Colab\"/></a>"
      ]
    },
    {
      "cell_type": "code",
      "execution_count": 5,
      "metadata": {
        "id": "iFFdrQsMIqTx",
        "outputId": "1f112272-fd79-4581-b302-967b5be8c396",
        "colab": {
          "base_uri": "https://localhost:8080/"
        }
      },
      "outputs": [
        {
          "output_type": "stream",
          "name": "stdout",
          "text": [
            "Python 3.10.12\n"
          ]
        }
      ],
      "source": [
        "!python --version"
      ]
    },
    {
      "cell_type": "code",
      "source": [
        "x=3\n",
        "print(type(x))"
      ],
      "metadata": {
        "id": "S5jdWLZGKneD",
        "outputId": "5265bfb2-a7b4-423a-8af6-b67eb1e6b391",
        "colab": {
          "base_uri": "https://localhost:8080/"
        }
      },
      "execution_count": 6,
      "outputs": [
        {
          "output_type": "stream",
          "name": "stdout",
          "text": [
            "<class 'int'>\n"
          ]
        }
      ]
    },
    {
      "cell_type": "code",
      "source": [
        "t=True\n",
        "f=False\n",
        "print(type(t))\n",
        "print(t and f)\n",
        "print(t or f)\n"
      ],
      "metadata": {
        "id": "I9w-QvVfLU-k",
        "outputId": "24262d72-add0-460e-a946-d2c8e9e5e702",
        "colab": {
          "base_uri": "https://localhost:8080/"
        }
      },
      "execution_count": 8,
      "outputs": [
        {
          "output_type": "stream",
          "name": "stdout",
          "text": [
            "<class 'bool'>\n",
            "False\n",
            "True\n"
          ]
        }
      ]
    },
    {
      "cell_type": "code",
      "source": [
        "hello='hello'\n",
        "world=\"world\"\n",
        "print(hello +' '+ world)\n",
        "print(len(hello))"
      ],
      "metadata": {
        "id": "CGhsAA-JLtKX",
        "outputId": "232fe8fb-b824-4c9f-8277-78fe1e34c4b7",
        "colab": {
          "base_uri": "https://localhost:8080/"
        }
      },
      "execution_count": 10,
      "outputs": [
        {
          "output_type": "stream",
          "name": "stdout",
          "text": [
            "hello world\n",
            "5\n"
          ]
        }
      ]
    },
    {
      "cell_type": "code",
      "source": [
        "x = \"python\"\n",
        "y=\"RL\"\n",
        "print('This is {} {} class'.format(x,y))\n",
        "\n"
      ],
      "metadata": {
        "id": "KJj_X2N8MJ__",
        "outputId": "1ddfb917-4aab-4079-d49f-70781a2cd836",
        "colab": {
          "base_uri": "https://localhost:8080/"
        }
      },
      "execution_count": 13,
      "outputs": [
        {
          "output_type": "stream",
          "name": "stdout",
          "text": [
            "This is python RL class\n"
          ]
        }
      ]
    },
    {
      "cell_type": "code",
      "source": [
        "fruits = ['apple', 'banana', 'cherry']\n",
        "print(fruits)\n",
        "fruits.append(\"11\")\n",
        "print(fruits)"
      ],
      "metadata": {
        "id": "-Xr02C0JN0Uw",
        "outputId": "3a4648e4-2a6d-4397-997b-cf2354ea2ea2",
        "colab": {
          "base_uri": "https://localhost:8080/"
        }
      },
      "execution_count": 16,
      "outputs": [
        {
          "output_type": "stream",
          "name": "stdout",
          "text": [
            "['apple', 'banana', 'cherry']\n",
            "['apple', 'banana', 'cherry', '11']\n"
          ]
        }
      ]
    },
    {
      "cell_type": "code",
      "source": [
        "x = list(range(10))\n",
        "print(x)\n",
        "print(x[2:4])\n",
        "x[2:6]=[11,12]\n",
        "print(x[2:6])\n",
        "print(x)"
      ],
      "metadata": {
        "id": "42jCkixYQJYN",
        "outputId": "3bf37ae9-5abf-4d22-cd2d-fd325942bdc3",
        "colab": {
          "base_uri": "https://localhost:8080/"
        }
      },
      "execution_count": 27,
      "outputs": [
        {
          "output_type": "stream",
          "name": "stdout",
          "text": [
            "[0, 1, 2, 3, 4, 5, 6, 7, 8, 9]\n",
            "[2, 3]\n",
            "[11, 12, 6, 7]\n",
            "[0, 1, 11, 12, 6, 7, 8, 9]\n"
          ]
        }
      ]
    },
    {
      "cell_type": "code",
      "source": [
        "animals=['cat','dog','monkey']\n",
        "for animal in animals:\n",
        "    print(animal)"
      ],
      "metadata": {
        "id": "sTdROp4ARkJ5",
        "outputId": "c8fd7735-14b2-4073-d55f-e64828fa9eb0",
        "colab": {
          "base_uri": "https://localhost:8080/"
        }
      },
      "execution_count": 30,
      "outputs": [
        {
          "output_type": "stream",
          "name": "stdout",
          "text": [
            "cat\n",
            "dog\n",
            "monkey\n"
          ]
        }
      ]
    },
    {
      "cell_type": "code",
      "source": [
        "animals=['cat','dog','monkey']\n",
        "for idx,animal in enumerate(animals):\n",
        "    print('#{}: {}'.format(idx,animal))"
      ],
      "metadata": {
        "id": "uAtSiAlzSAOY",
        "outputId": "23afe306-73ea-444b-cf35-8d2197275ea4",
        "colab": {
          "base_uri": "https://localhost:8080/"
        }
      },
      "execution_count": 31,
      "outputs": [
        {
          "output_type": "stream",
          "name": "stdout",
          "text": [
            "#0: cat\n",
            "#1: dog\n",
            "#2: monkey\n"
          ]
        }
      ]
    },
    {
      "cell_type": "code",
      "source": [
        "x = list(range(10))\n",
        "for sq in x:\n",
        "\n",
        "  append(x,sq*sq)\n",
        "\n",
        "print(x)"
      ],
      "metadata": {
        "id": "iPpj5gWDSWvz",
        "outputId": "bf69367e-8507-4700-87a7-d132272e6209",
        "colab": {
          "base_uri": "https://localhost:8080/",
          "height": 235
        }
      },
      "execution_count": 37,
      "outputs": [
        {
          "output_type": "error",
          "ename": "NameError",
          "evalue": "ignored",
          "traceback": [
            "\u001b[0;31m---------------------------------------------------------------------------\u001b[0m",
            "\u001b[0;31mNameError\u001b[0m                                 Traceback (most recent call last)",
            "\u001b[0;32m<ipython-input-37-06d47c2a5a0f>\u001b[0m in \u001b[0;36m<cell line: 2>\u001b[0;34m()\u001b[0m\n\u001b[1;32m      2\u001b[0m \u001b[0;32mfor\u001b[0m \u001b[0msq\u001b[0m \u001b[0;32min\u001b[0m \u001b[0mx\u001b[0m\u001b[0;34m:\u001b[0m\u001b[0;34m\u001b[0m\u001b[0;34m\u001b[0m\u001b[0m\n\u001b[1;32m      3\u001b[0m \u001b[0;34m\u001b[0m\u001b[0m\n\u001b[0;32m----> 4\u001b[0;31m   \u001b[0mappend\u001b[0m\u001b[0;34m(\u001b[0m\u001b[0mx\u001b[0m\u001b[0;34m,\u001b[0m\u001b[0msq\u001b[0m\u001b[0;34m*\u001b[0m\u001b[0msq\u001b[0m\u001b[0;34m)\u001b[0m\u001b[0;34m\u001b[0m\u001b[0;34m\u001b[0m\u001b[0m\n\u001b[0m\u001b[1;32m      5\u001b[0m \u001b[0;34m\u001b[0m\u001b[0m\n\u001b[1;32m      6\u001b[0m \u001b[0mprint\u001b[0m\u001b[0;34m(\u001b[0m\u001b[0mx\u001b[0m\u001b[0;34m)\u001b[0m\u001b[0;34m\u001b[0m\u001b[0;34m\u001b[0m\u001b[0m\n",
            "\u001b[0;31mNameError\u001b[0m: name 'append' is not defined"
          ]
        }
      ]
    },
    {
      "cell_type": "code",
      "source": [
        "def sign(x):\n",
        "  if x>0:\n",
        "    return 'positive'\n",
        "  elif x<0:\n",
        "    return 'negative'\n",
        "  else:\n",
        "    return 'zero'\n",
        "\n",
        "for x in [1,0.-1]:\n",
        "    print(sign(x))"
      ],
      "metadata": {
        "id": "arzvzthVTMqM",
        "outputId": "2943c8bf-deda-4cae-f008-e84235c14002",
        "colab": {
          "base_uri": "https://localhost:8080/"
        }
      },
      "execution_count": 44,
      "outputs": [
        {
          "output_type": "stream",
          "name": "stdout",
          "text": [
            "positive\n",
            "negative\n"
          ]
        }
      ]
    }
  ]
}