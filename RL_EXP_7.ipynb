{
  "nbformat": 4,
  "nbformat_minor": 0,
  "metadata": {
    "colab": {
      "provenance": [],
      "authorship_tag": "ABX9TyNn20gUe5qegCMLGwAhHWmF",
      "include_colab_link": true
    },
    "kernelspec": {
      "name": "python3",
      "display_name": "Python 3"
    },
    "language_info": {
      "name": "python"
    }
  },
  "cells": [
    {
      "cell_type": "markdown",
      "metadata": {
        "id": "view-in-github",
        "colab_type": "text"
      },
      "source": [
        "<a href=\"https://colab.research.google.com/github/harsh21CSU182/Harsh-Kaushik-RL/blob/main/RL_EXP_7.ipynb\" target=\"_parent\"><img src=\"https://colab.research.google.com/assets/colab-badge.svg\" alt=\"Open In Colab\"/></a>"
      ]
    },
    {
      "cell_type": "code",
      "execution_count": 1,
      "metadata": {
        "colab": {
          "base_uri": "https://localhost:8080/"
        },
        "id": "viXMA--qC4Ti",
        "outputId": "84f6d31a-da4e-4e10-f441-151ab48c4dad"
      },
      "outputs": [
        {
          "output_type": "stream",
          "name": "stdout",
          "text": [
            "Initial policy [0, 0, 0, 0, 0]\n",
            "Iterations 126\n",
            "Final Policy\n",
            "[0, 1, 0, 1, 0]\n",
            "[ 487.890625  649.1875    852.25     1003.          4.      ]\n"
          ]
        }
      ],
      "source": [
        "import numpy as np\n",
        "\n",
        "states = [0, 1, 2, 3, 4]\n",
        "actions = [0, 1]\n",
        "N_STATES = len(states)\n",
        "N_ACTIONS = len(actions)\n",
        "P = np.zeros((N_STATES, N_ACTIONS, N_STATES))  # transition probability\n",
        "R = np.zeros((N_STATES, N_ACTIONS, N_STATES))  # rewards\n",
        "P[0, 0, 1] = 1.0  # STATE ACTION and Reward\n",
        "P[1, 1, 2] = 1.0\n",
        "P[2, 0, 3] = 1.0\n",
        "P[3, 1, 4] = 1.0\n",
        "P[4, 0, 4] = 1.0\n",
        "\n",
        "R[0, 0, 1] = 1\n",
        "R[1, 1, 2] = 10\n",
        "R[2, 0, 3] = 100\n",
        "R[3, 1, 4] = 1000\n",
        "R[4, 0, 4] = 1.0\n",
        "gamma = 0.75\n",
        "\n",
        "# initialize policy and value arbitrarily\n",
        "\n",
        "policy = [0 for s in range(N_STATES)]\n",
        "V = np.zeros(N_STATES)\n",
        "\n",
        "print(\"Initial policy\", policy)\n",
        "# print V\n",
        "# Initial policy [0, 0, 0, 0, 0]\n",
        "is_value_changed = True\n",
        "iterations = 0\n",
        "\n",
        "while is_value_changed:\n",
        "    is_value_changed = False\n",
        "    iterations += 1\n",
        "    # run value iteration for each state\n",
        "    for s in range(N_STATES):\n",
        "        q_best = V[s]\n",
        "        for a in range(N_ACTIONS):\n",
        "            q_sa = sum([P[s, a, s1] * (R[s, a, s1] + gamma * V[s1]) for s1 in range(N_STATES)])\n",
        "            if q_sa > q_best:\n",
        "                policy[s] = a\n",
        "                q_best = q_sa\n",
        "                is_value_changed = True\n",
        "        V[s] = q_best\n",
        "\n",
        "print(\"Iterations\", iterations)\n",
        "print(\"Final Policy\")\n",
        "print(policy)\n",
        "print(V)\n"
      ]
    },
    {
      "cell_type": "code",
      "source": [
        "import numpy as np\n",
        "import gym\n",
        "\n",
        "def policy_evaluation(env, policy, gamma=0.9, epsilon=1e-6):\n",
        "    num_states = env.observation_space.n\n",
        "    num_actions = env.action_space.n\n",
        "\n",
        "    # Initialize value function arbitrarily\n",
        "    V = np.zeros(num_states)\n",
        "\n",
        "    while True:\n",
        "        delta = 0\n",
        "        for state in range(num_states):\n",
        "            v = V[state]\n",
        "            action = policy[state]\n",
        "\n",
        "            # Calculate the expected value for the current state and action\n",
        "            expected_value = sum(p * (r + gamma * V[next_state])\n",
        "                                 for p, next_state, r, _ in env.P[state][action])\n",
        "\n",
        "            # Update the value function for the current state\n",
        "            V[state] = expected_value\n",
        "\n",
        "            # Update the maximum change in value\n",
        "            delta = max(delta, abs(v - V[state]))\n",
        "\n",
        "        # Check for convergence\n",
        "        if delta < epsilon:\n",
        "            break\n",
        "\n",
        "    return V\n",
        "\n",
        "def policy_improvement(env, V, gamma=0.9):\n",
        "    num_states = env.observation_space.n\n",
        "    num_actions = env.action_space.n\n",
        "\n",
        "    policy_stable = True\n",
        "    new_policy = np.zeros(num_states, dtype=int)\n",
        "\n",
        "    for state in range(num_states):\n",
        "        old_action = new_policy[state]\n",
        "\n",
        "        # Find the action that maximizes the expected value\n",
        "        new_policy[state] = np.argmax([sum(p * (r + gamma * V[next_state])\n",
        "                                           for p, next_state, r, _ in env.P[state][action])\n",
        "                                       for action in range(num_actions)])\n",
        "\n",
        "        # Check if the policy for the current state has changed\n",
        "        if old_action != new_policy[state]:\n",
        "            policy_stable = False\n",
        "\n",
        "    return new_policy, policy_stable\n",
        "\n",
        "def policy_iteration(env, gamma=0.9, max_iterations=1000):\n",
        "    num_states = env.observation_space.n\n",
        "    num_actions = env.action_space.n\n",
        "\n",
        "    # Initialize a random policy\n",
        "    initial_policy = np.random.randint(0, num_actions, size=num_states)\n",
        "    policy = initial_policy.copy()\n",
        "\n",
        "    for i in range(max_iterations):\n",
        "        # Policy Evaluation\n",
        "        V = policy_evaluation(env, policy, gamma)\n",
        "\n",
        "        # Policy Improvement\n",
        "        new_policy, policy_stable = policy_improvement(env, V, gamma)\n",
        "\n",
        "        # Update the policy\n",
        "        policy = new_policy\n",
        "\n",
        "        # Check for policy stability\n",
        "        if policy_stable:\n",
        "            print(f\"Policy Iteration converged in {i+1} iterations.\")\n",
        "            break\n",
        "\n",
        "    return initial_policy, policy, V\n",
        "\n",
        "# Create a simple grid world environment using gym\n",
        "env = gym.make(\"FrozenLake-v1\")\n",
        "\n",
        "# Run policy iteration\n",
        "initial_policy, optimal_policy, optimal_value_function = policy_iteration(env)\n",
        "\n",
        "# Display results\n",
        "print(\"\\nInitial Policy:\")\n",
        "print(initial_policy.reshape((4, 4)))  # Assuming a 4x4 grid for FrozenLake\n",
        "\n",
        "print(\"\\nOptimal Policy:\")\n",
        "print(optimal_policy.reshape((4, 4)))  # Assuming a 4x4 grid for FrozenLake\n",
        "\n",
        "print(\"\\nOptimal Value Function:\")\n",
        "print(optimal_value_function.reshape((4, 4)))  # Assuming a 4x4 grid for FrozenLake\n"
      ],
      "metadata": {
        "colab": {
          "base_uri": "https://localhost:8080/"
        },
        "id": "Huve53lZEUxo",
        "outputId": "d33587bb-4dd6-43cb-ded6-025bf6e96077"
      },
      "execution_count": 7,
      "outputs": [
        {
          "output_type": "stream",
          "name": "stdout",
          "text": [
            "\n",
            "Initial Policy:\n",
            "[[0 0 1 0]\n",
            " [0 1 3 3]\n",
            " [0 1 1 0]\n",
            " [3 2 3 3]]\n",
            "\n",
            "Optimal Policy:\n",
            "[[0 3 0 3]\n",
            " [0 0 0 0]\n",
            " [3 1 0 0]\n",
            " [0 2 1 0]]\n",
            "\n",
            "Optimal Value Function:\n",
            "[[0.06888673 0.06141154 0.07440786 0.05580526]\n",
            " [0.09185135 0.         0.11220737 0.        ]\n",
            " [0.14543417 0.24749575 0.29961685 0.        ]\n",
            " [0.         0.37993513 0.63901979 0.        ]]\n"
          ]
        }
      ]
    }
  ]
}